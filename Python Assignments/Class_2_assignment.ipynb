{
 "cells": [
  {
   "cell_type": "code",
   "execution_count": 1,
   "metadata": {},
   "outputs": [
    {
     "name": "stdout",
     "output_type": "stream",
     "text": [
      "{40, 10, 80, 50, 20, 60, 30}\n"
     ]
    }
   ],
   "source": [
    "# Write a Python program to remove duplicates from a list\n",
    "a = [10,20,30,20,10,50,60,40,80,50,40]\n",
    "b = set(a)\n",
    "print(b)"
   ]
  },
  {
   "cell_type": "code",
   "execution_count": 3,
   "metadata": {},
   "outputs": [
    {
     "name": "stdout",
     "output_type": "stream",
     "text": [
      "-5\n"
     ]
    }
   ],
   "source": [
    "# Write a Python program to sum all the items in a list.\n",
    "a = [1,2,-8]\n",
    "print(sum(a))"
   ]
  },
  {
   "cell_type": "code",
   "execution_count": 3,
   "metadata": {},
   "outputs": [
    {
     "name": "stdout",
     "output_type": "stream",
     "text": [
      "2\n"
     ]
    }
   ],
   "source": [
    "''' Write a Python program to count the number of strings from a given list of\n",
    "strings with length 2 or more and the first and last characters are the same. '''\n",
    "\n",
    "a = ['abc', 'xyz', 'aba', '1221']\n",
    "count = 0\n",
    "for i in a:\n",
    "    if len(i)>= 2 and i[0] == i[-1]:\n",
    "        count +=1\n",
    "print(count)"
   ]
  },
  {
   "cell_type": "code",
   "execution_count": 8,
   "metadata": {},
   "outputs": [
    {
     "data": {
      "text/plain": [
       "['Green', 'White', 'Black']"
      ]
     },
     "execution_count": 8,
     "metadata": {},
     "output_type": "execute_result"
    }
   ],
   "source": [
    "'''Write a Python program to print a specified list after removing the 0th, 4th and\n",
    "5th elements. '''\n",
    "color = ['Red', 'Green', 'White', 'Black', 'Pink', 'Yellow']\n",
    "output_list = color[1:4]\n",
    "output_list"
   ]
  },
  {
   "cell_type": "code",
   "execution_count": 10,
   "metadata": {},
   "outputs": [
    {
     "name": "stdout",
     "output_type": "stream",
     "text": [
      "[7, 25, 27]\n"
     ]
    },
    {
     "data": {
      "text/plain": [
       "[7, 25, 27]"
      ]
     },
     "execution_count": 10,
     "metadata": {},
     "output_type": "execute_result"
    }
   ],
   "source": [
    "'''Write a Python program to print the numbers of a specified list after removing\n",
    "even numbers from it.'''\n",
    "numbers =  [7,8, 120, 25, 44, 20, 27]\n",
    "not_even = []\n",
    "for i in numbers:\n",
    "    if i%2 != 0:\n",
    "        not_even.append(i)\n",
    "print(not_even)\n",
    "\n",
    "output_list = [x for x in numbers if x % 2 != 0]\n",
    "output_list"
   ]
  },
  {
   "cell_type": "code",
   "execution_count": 15,
   "metadata": {},
   "outputs": [
    {
     "data": {
      "text/plain": [
       "[40, 10, 50, 20, 60, 30]"
      ]
     },
     "execution_count": 15,
     "metadata": {},
     "output_type": "execute_result"
    }
   ],
   "source": [
    "# Write a Python program to get unique values from a list\n",
    "numbers = [10, 20, 30, 40, 20, 50, 60, 40]\n",
    "number = set(numbers)\n",
    "numbers_list = list(number)\n",
    "numbers_list"
   ]
  },
  {
   "cell_type": "code",
   "execution_count": 7,
   "metadata": {},
   "outputs": [
    {
     "data": {
      "text/plain": [
       "'abcd'"
      ]
     },
     "execution_count": 7,
     "metadata": {},
     "output_type": "execute_result"
    }
   ],
   "source": [
    "# Write a Python program to convert a list of characters into a string\n",
    "alphabets = ['a','b','c','d']\n",
    "alphabets = (\"\".join(alphabets))\n",
    "alphabets"
   ]
  },
  {
   "cell_type": "code",
   "execution_count": 8,
   "metadata": {},
   "outputs": [
    {
     "name": "stdout",
     "output_type": "stream",
     "text": [
      "[2, 3, 4, 5, 6, 8, 9]\n"
     ]
    }
   ],
   "source": [
    "# Write a Python program to calculate the difference between the two lists\n",
    "list1 = [1,3,5,7,9]\n",
    "list2 = [1,2,4,6,7,8]\n",
    "\n",
    "diff_set = set(list1) ^ set(list2)\n",
    "\n",
    "diff_list = list(diff_set)\n",
    "\n",
    "print(diff_list)\n"
   ]
  },
  {
   "cell_type": "code",
   "execution_count": 22,
   "metadata": {},
   "outputs": [
    {
     "data": {
      "text/plain": [
       "{1: 3, 2: 3, 3: 3, 4: 2, 5: 1}"
      ]
     },
     "execution_count": 22,
     "metadata": {},
     "output_type": "execute_result"
    }
   ],
   "source": [
    "# Write a Python program to get the frequency of elements in a list\n",
    "input_list = [1, 2, 3, 2, 4, 1, 3, 5, 2, 3, 4, 1]\n",
    "\n",
    "output_dict = {i :input_list.count(i) for i in set(input_list)}\n",
    "output_dict"
   ]
  },
  {
   "cell_type": "code",
   "execution_count": 20,
   "metadata": {},
   "outputs": [
    {
     "name": "stdout",
     "output_type": "stream",
     "text": [
      "Frequency of elements in the list: {1: 3, 2: 3, 3: 3, 4: 2, 5: 1}\n"
     ]
    }
   ],
   "source": [
    "input_list = [1, 2, 3, 2, 4, 1, 3, 5, 2, 3, 4, 1]\n",
    "\n",
    "# Initialize an empty dictionary to store the frequency\n",
    "frequency_dict = {}\n",
    "\n",
    "# Count the frequency of each element in the list\n",
    "for element in input_list:\n",
    "    if element in frequency_dict:\n",
    "        frequency_dict[element] += 1\n",
    "    else:\n",
    "        frequency_dict[element] = 1\n",
    "\n",
    "# Print the frequency dictionary\n",
    "print(\"Frequency of elements in the list:\", frequency_dict)\n"
   ]
  },
  {
   "cell_type": "code",
   "execution_count": 23,
   "metadata": {},
   "outputs": [
    {
     "name": "stdout",
     "output_type": "stream",
     "text": [
      "{'White', 'Green'}\n",
      "{'White', 'Green'}\n"
     ]
    }
   ],
   "source": [
    "# Write a Python program to find common items in two lists\n",
    "color1 = {\"Red\", \"Green\", \"Orange\", \"White\"}\n",
    "color2 = {\"Black\", \"Green\", \"White\", \"Pink\"}\n",
    "\n",
    "common_items = color1.intersection(color2)\n",
    "print(common_items)\n",
    "\n",
    "common_items = set(color1) & set(color2)\n",
    "print(common_items)"
   ]
  },
  {
   "cell_type": "code",
   "execution_count": 25,
   "metadata": {},
   "outputs": [
    {
     "data": {
      "text/plain": [
       "[('p', 1),\n",
       " ('p', 2),\n",
       " ('p', 3),\n",
       " ('p', 4),\n",
       " ('p', 5),\n",
       " ('q', 1),\n",
       " ('q', 2),\n",
       " ('q', 3),\n",
       " ('q', 4),\n",
       " ('q', 5)]"
      ]
     },
     "execution_count": 25,
     "metadata": {},
     "output_type": "execute_result"
    }
   ],
   "source": [
    "''' Write a Python program to create a list by concatenating a given list with a\n",
    "range from 1 to n. '''\n",
    "s1 = ['p','q']\n",
    "n = range (1,6)\n",
    "\n",
    "s2 =[(i,j) for i in s1 for j in n]\n",
    "s2"
   ]
  },
  {
   "cell_type": "code",
   "execution_count": 44,
   "metadata": {},
   "outputs": [
    {
     "data": {
      "text/plain": [
       "[('p', '1'),\n",
       " ('p', '2'),\n",
       " ('p', '3'),\n",
       " ('p', '4'),\n",
       " ('p', '5'),\n",
       " ('q', '1'),\n",
       " ('q', '2'),\n",
       " ('q', '3'),\n",
       " ('q', '4'),\n",
       " ('q', '5')]"
      ]
     },
     "execution_count": 44,
     "metadata": {},
     "output_type": "execute_result"
    }
   ],
   "source": [
    "s1 = ['p','q']\n",
    "n = [\"1\",\"2\",\"3\",\"4\",\"5\"]\n",
    "s2 =[(i,j) for i in s1 for j in n]\n",
    "s2"
   ]
  },
  {
   "cell_type": "code",
   "execution_count": 49,
   "metadata": {},
   "outputs": [
    {
     "name": "stdout",
     "output_type": "stream",
     "text": [
      "1\n",
      "2\n",
      "3\n",
      "4\n",
      "5\n"
     ]
    }
   ],
   "source": [
    "n = range(1,6)\n",
    "for x in n:\n",
    "    print(x)\n",
    "    "
   ]
  },
  {
   "cell_type": "code",
   "execution_count": 52,
   "metadata": {},
   "outputs": [
    {
     "name": "stdout",
     "output_type": "stream",
     "text": [
      "p1\n",
      "p2\n",
      "p3\n",
      "p4\n",
      "p5\n",
      "q1\n",
      "q2\n",
      "q3\n",
      "q4\n",
      "q5\n"
     ]
    }
   ],
   "source": [
    "s1 = ['p','q']\n",
    "n = range(1,6)\n",
    "for char in s1:\n",
    "    for x in n:\n",
    "        print(char + str(x))"
   ]
  },
  {
   "cell_type": "code",
   "execution_count": 25,
   "metadata": {},
   "outputs": [
    {
     "name": "stdout",
     "output_type": "stream",
     "text": [
      "['p1', 'q1', 'p2', 'q2', 'p3', 'q3', 'p4', 'q4', 'p5', 'q5']\n"
     ]
    }
   ],
   "source": [
    "s1 = ['p','q']\n",
    "n = range(1,6)\n",
    "list1= []\n",
    "for x in n:\n",
    "    for char in s1:\n",
    "        list1.append(char + str(x))\n",
    "print(list1)"
   ]
  },
  {
   "cell_type": "code",
   "execution_count": 26,
   "metadata": {},
   "outputs": [
    {
     "data": {
      "text/plain": [
       "113350"
      ]
     },
     "execution_count": 26,
     "metadata": {},
     "output_type": "execute_result"
    }
   ],
   "source": [
    "''' Write a Python program to convert a list of multiple integers into a single\n",
    "integer '''\n",
    "input_list = [11, 33, 50]\n",
    "output_list = int(\"\".join(str(num)for num in input_list))\n",
    "output_list"
   ]
  },
  {
   "cell_type": "code",
   "execution_count": 27,
   "metadata": {},
   "outputs": [
    {
     "name": "stdout",
     "output_type": "stream",
     "text": [
      "Var1 =  ('Black', '#000000', 'rgb(0, 0, 0)')\n",
      "Var2 =  ('Red', '#FF0000', 'rgb(255, 0, 0)')\n",
      "Var3 =  ('Yellow', '#FFFF00', 'rgb(255, 255, 0)')\n"
     ]
    }
   ],
   "source": [
    "# Write a Python program to split a list into different variables\n",
    "color = [(\"Black\", \"#000000\", \"rgb(0, 0, 0)\"), (\"Red\", \"#FF0000\", \"rgb(255, 0, 0)\"),\n",
    "(\"Yellow\", \"#FFFF00\", \"rgb(255, 255, 0)\")]\n",
    "Var1, Var2, Var3 = color\n",
    "print(\"Var1 = \", Var1)\n",
    "print(\"Var2 = \", Var2)\n",
    "print(\"Var3 = \", Var3)\n"
   ]
  },
  {
   "cell_type": "code",
   "execution_count": 31,
   "metadata": {},
   "outputs": [
    {
     "name": "stdout",
     "output_type": "stream",
     "text": [
      "[['a', 'd', 'g', 'j', 'm', 'p'], ['b', 'e', 'h', 'k', 'n'], ['c', 'f', 'i', 'l', 'o']]\n"
     ]
    }
   ],
   "source": [
    "# Write a Python program to split a list every Nth element\n",
    "input_list = ['a', 'b', 'c', 'd', 'e', 'f', 'g', 'h', 'i', 'j', 'k', 'l', 'm', 'n','o','p']\n",
    "N =3\n",
    "output_list = [input_list[i :: N] for i in range (N)]\n",
    "print(output_list)"
   ]
  },
  {
   "cell_type": "markdown",
   "metadata": {},
   "source": [
    "### Tuple"
   ]
  },
  {
   "cell_type": "code",
   "execution_count": 37,
   "metadata": {},
   "outputs": [
    {
     "name": "stdout",
     "output_type": "stream",
     "text": [
      "V1 =  4\n",
      "V2 =  8\n",
      "V3 =  3\n"
     ]
    }
   ],
   "source": [
    "# Write a Python program to unpack a tuple into several variables\n",
    "my_tuple = (4,8,3)\n",
    "Var1,Var2,Var3 = my_tuple\n",
    "print('V1 = ', Var1)\n",
    "print('V2 = ', Var2)\n",
    "print('V3 = ', Var3)"
   ]
  },
  {
   "cell_type": "code",
   "execution_count": 40,
   "metadata": {},
   "outputs": [
    {
     "name": "stdout",
     "output_type": "stream",
     "text": [
      "False\n"
     ]
    }
   ],
   "source": [
    "# Write a Python program to check whether an element (5) exists within a tuple.\n",
    "input_tuple = (\"w\", 3, \"r\", \"e\", \"s\", \"o\", \"u\", \"r\", \"c\", \"e\")\n",
    "exists_tuple = 5 in input_tuple\n",
    "print(exists_tuple)"
   ]
  },
  {
   "cell_type": "code",
   "execution_count": 42,
   "metadata": {},
   "outputs": [
    {
     "name": "stdout",
     "output_type": "stream",
     "text": [
      "(20, 15, 10, 5)\n"
     ]
    }
   ],
   "source": [
    "# Write a Python program to reverse a tuple.\n",
    "input_tuple = (5,10,15, 20)\n",
    "reversed_tuple = input_tuple[::-1]\n",
    "print(reversed_tuple)"
   ]
  },
  {
   "cell_type": "code",
   "execution_count": 43,
   "metadata": {},
   "outputs": [
    {
     "name": "stdout",
     "output_type": "stream",
     "text": [
      "This is a tuple (100, 200, 300)\n"
     ]
    }
   ],
   "source": [
    "# Write a Python program to print a tuple with string formatting.\n",
    "\n",
    "input_tuple = (100,200,300)\n",
    "print(\"This is a tuple\", input_tuple)"
   ]
  },
  {
   "cell_type": "code",
   "execution_count": 44,
   "metadata": {},
   "outputs": [
    {
     "name": "stdout",
     "output_type": "stream",
     "text": [
      "[('',), ('a', 'b'), ('a', 'b', 'c'), 'd']\n"
     ]
    }
   ],
   "source": [
    "# Write a Python program to remove an empty tuple(s) from a list of tuples\n",
    "\n",
    "input_list = [(), (), ('',), ('a', 'b'), ('a', 'b', 'c'), ('d')]\n",
    "output_list = [t for t in input_list if t]\n",
    "print(output_list)\n"
   ]
  },
  {
   "cell_type": "code",
   "execution_count": 46,
   "metadata": {},
   "outputs": [
    {
     "data": {
      "text/plain": [
       "('s', 'h', 'a', 'i', 'l', 'e', 's', 'h')"
      ]
     },
     "execution_count": 46,
     "metadata": {},
     "output_type": "execute_result"
    }
   ],
   "source": [
    "# Write a Python program to convert a given string to a tuple.\n",
    "input_string = \"shailesh\"\n",
    "output_tuple = tuple(input_string)\n",
    "output_tuple"
   ]
  },
  {
   "cell_type": "code",
   "execution_count": 48,
   "metadata": {},
   "outputs": [
    {
     "data": {
      "text/plain": [
       "(6, 9, 8, 6)"
      ]
     },
     "execution_count": 48,
     "metadata": {},
     "output_type": "execute_result"
    }
   ],
   "source": [
    "''' Write a Python program to compute the element-wise sum of given tuples(\n",
    "Interview Question) '''\n",
    "tuple1 = (1,2,3,4)\n",
    "tuple2 = (3,5,2,1)\n",
    "tuple3 = (2,2,3,1)\n",
    "\n",
    "output_tuple = tuple(map(sum,zip(tuple1,tuple2,tuple3)))\n",
    "output_tuple\n"
   ]
  },
  {
   "cell_type": "code",
   "execution_count": 49,
   "metadata": {},
   "outputs": [
    {
     "name": "stdout",
     "output_type": "stream",
     "text": [
      "[[1, 2], [2, 3], [3, 4]]\n"
     ]
    }
   ],
   "source": [
    "# Write a Python program to convert a given list of tuples to a list of lists.\n",
    "input_list =[(1,2),(2,3),(3,4)]\n",
    "output_list= [list(t)for t in input_list]\n",
    "print(output_list)"
   ]
  },
  {
   "cell_type": "code",
   "execution_count": 52,
   "metadata": {},
   "outputs": [
    {
     "name": "stdout",
     "output_type": "stream",
     "text": [
      "{0, 1, 3, 4, 5}\n",
      "{0, 1, 3, 4, 5}\n"
     ]
    }
   ],
   "source": [
    "# Write a Python program to remove an item from a set if it is present in the set\n",
    "input_set = {0,1,2,3,4,5}\n",
    "item_to_remove = 2\n",
    "item_to_remove_2 = 7\n",
    "input_set.discard(item_to_remove)\n",
    "print(input_set)\n",
    "input_set.discard(item_to_remove_2)\n",
    "print(input_set)"
   ]
  },
  {
   "cell_type": "code",
   "execution_count": 54,
   "metadata": {},
   "outputs": [
    {
     "name": "stdout",
     "output_type": "stream",
     "text": [
      "if x is subset of y :  False\n",
      "if y is subset of z :  False\n",
      "if z is subset of y :  True\n",
      "if z is subset of x :  True\n"
     ]
    }
   ],
   "source": [
    "# Write a Python program to check if a set is a subset of another set.\n",
    "x = {'mango','apple'}\n",
    "y = {'mango','orange'}\n",
    "z = {'mango'}\n",
    "print(\"if x is subset of y : \", x.issubset(y))\n",
    "print(\"if y is subset of z : \", y.issubset(z))\n",
    "print(\"if z is subset of y : \", z.issubset(y))\n",
    "print('if z is subset of x : ', z.issubset(x))"
   ]
  },
  {
   "cell_type": "code",
   "execution_count": 57,
   "metadata": {},
   "outputs": [
    {
     "name": "stdout",
     "output_type": "stream",
     "text": [
      "set()\n"
     ]
    }
   ],
   "source": [
    "# Write a Python program to remove all elements from a given set at once.\n",
    "input_set = {'Green','Black','Red','White'}\n",
    "input_set.clear()\n",
    "print(input_set) "
   ]
  },
  {
   "cell_type": "code",
   "execution_count": 59,
   "metadata": {},
   "outputs": [
    {
     "name": "stdout",
     "output_type": "stream",
     "text": [
      "False\n"
     ]
    }
   ],
   "source": [
    "''' Write a Python program to check if two given sets have no elements in\n",
    "common '''\n",
    "input_set1 = {1,2,3,4}\n",
    "input_set2 = {4,5,6,7}\n",
    "print(input_set1.isdisjoint(input_set2))"
   ]
  },
  {
   "cell_type": "code",
   "execution_count": 60,
   "metadata": {},
   "outputs": [
    {
     "name": "stdout",
     "output_type": "stream",
     "text": [
      "False\n"
     ]
    }
   ],
   "source": [
    "# Write a Python program to check if a given value(10) is present in a set or not\n",
    "input_set = {1,3,5,7,9,11}\n",
    "value_to_check = 10\n",
    "print(value_to_check in input_set)"
   ]
  },
  {
   "cell_type": "code",
   "execution_count": 61,
   "metadata": {},
   "outputs": [
    {
     "data": {
      "text/plain": [
       "['Exercises', 'Practice', 'Python', 'Solution']"
      ]
     },
     "execution_count": 61,
     "metadata": {},
     "output_type": "execute_result"
    }
   ],
   "source": [
    "''' Write a Python program to remove all duplicates from a given list of strings\n",
    "and return a list of unique strings. Use the Python set data type.'''\n",
    "input_set = ['Python', 'Exercises','Practice','Solution','Exercises']\n",
    "output_list = list(set(input_set))\n",
    "output_list"
   ]
  },
  {
   "cell_type": "code",
   "execution_count": null,
   "metadata": {},
   "outputs": [],
   "source": []
  }
 ],
 "metadata": {
  "kernelspec": {
   "display_name": "base",
   "language": "python",
   "name": "python3"
  },
  "language_info": {
   "codemirror_mode": {
    "name": "ipython",
    "version": 3
   },
   "file_extension": ".py",
   "mimetype": "text/x-python",
   "name": "python",
   "nbconvert_exporter": "python",
   "pygments_lexer": "ipython3",
   "version": "3.10.13"
  }
 },
 "nbformat": 4,
 "nbformat_minor": 2
}
